{
 "cells": [
  {
   "cell_type": "code",
   "execution_count": 77,
   "id": "05cc297a",
   "metadata": {},
   "outputs": [],
   "source": [
    "import networkx as nx\n",
    "import matplotlib.pyplot as plt\n",
    "from trust.pagerank import PersonalizedPageRank, PersonalizedPageRankNx"
   ]
  },
  {
   "cell_type": "code",
   "execution_count": 78,
   "id": "9d769fb6",
   "metadata": {},
   "outputs": [],
   "source": [
    "# Create the test graph\n",
    "G = nx.DiGraph()\n",
    "G.add_nodes_from((1,2,3))\n",
    "G.add_edge(1,2, weight=10)\n",
    "G.add_edge(1,3, weight=10)\n",
    "G.add_edge(2,3, weight=20)"
   ]
  },
  {
   "cell_type": "code",
   "execution_count": 79,
   "id": "421c8b41",
   "metadata": {},
   "outputs": [
    {
     "data": {
      "image/png": "[encoded data removed]",
      "text/plain": [
       "<Figure size 432x288 with 1 Axes>"
      ]
     },
     "metadata": {},
     "output_type": "display_data"
    }
   ],
   "source": [
    "def vis_graph(g):\n",
    "# Visualize the graph, for clarity\n",
    "    pos=nx.spring_layout(g)\n",
    "    nx.draw_networkx(g,pos)\n",
    "    labels = nx.get_edge_attributes(g,'weight')\n",
    "    nx.draw_networkx_edge_labels(g,pos,edge_labels=labels)\n",
    "    \n",
    "vis_graph(G)"
   ]
  },
  {
   "cell_type": "code",
   "execution_count": 80,
   "id": "9ae6da0d",
   "metadata": {},
   "outputs": [
    {
     "name": "stdout",
     "output_type": "stream",
     "text": [
      "{2: 0.3364299933642999, 3: 0.6635700066357001}\n"
     ]
    }
   ],
   "source": [
    "# We're calculating the ratings from the point of view of this (seed) node\n",
    "def calc_rep(graph, seed_node):\n",
    "    ppr = PersonalizedPageRank(graph, seed_node, reset_probability=0.0)\n",
    "\n",
    "    reputation={}\n",
    "    for n in graph.nodes():\n",
    "        if n!=seed_node:\n",
    "            reputation[n] = ppr.compute(seed_node, n)\n",
    "    return reputation\n",
    "\n",
    "print(calc_rep(G, 1))"
   ]
  },
  {
   "cell_type": "code",
   "execution_count": null,
   "id": "2e759999",
   "metadata": {},
   "outputs": [],
   "source": []
  },
  {
   "cell_type": "code",
   "execution_count": 82,
   "id": "36207f0a",
   "metadata": {},
   "outputs": [
    {
     "data": {
      "image/png": "[encoded data removed]",
      "text/plain": [
       "<Figure size 432x288 with 1 Axes>"
      ]
     },
     "metadata": {},
     "output_type": "display_data"
    }
   ],
   "source": [
    "# Now, let's imagine the case for users/posts ratings\n",
    "G = nx.DiGraph()\n",
    "\n",
    "# For simplicity, we will use strings for user names and posts here, \n",
    "# but in the real system those will be identified by a number (unique DB key)\n",
    "# Every upvote creates/increases an edge from the upvoter to the author of the original post\n",
    "\n",
    "def vote(voter, author, amount=1):\n",
    "    weight = G.get_edge_data(voter, author, default={'weight':0})['weight'] + amount\n",
    "    G.add_edge(voter, author, weight=weight)\n",
    "\n",
    "G.add_nodes_from((\"Alice\", \"Bob\", \"Carol\"))\n",
    "\n",
    "\n",
    "# Alice creates a post on the board. Carol upvotes Alice's post\n",
    "vote(\"Carol\", \"Alice\")\n",
    "\n",
    "# Carol upvotes it again \n",
    "vote(\"Carol\", \"Alice\")\n",
    "\n",
    "# Now Bob creates a post and Alice likes it\n",
    "vote(\"Alice\", \"Bob\")\n",
    "\n",
    "vis_graph(G)"
   ]
  },
  {
   "cell_type": "code",
   "execution_count": 85,
   "id": "fc321180",
   "metadata": {},
   "outputs": [
    {
     "name": "stdout",
     "output_type": "stream",
     "text": [
      "{'Alice': 0.5, 'Bob': 0.5}\n"
     ]
    }
   ],
   "source": [
    "# Calculate the ratings from Carol's standpoint\n",
    "print(calc_rep(G, \"Carol\"))"
   ]
  },
  {
   "cell_type": "code",
   "execution_count": 86,
   "id": "645990cb",
   "metadata": {},
   "outputs": [
    {
     "name": "stdout",
     "output_type": "stream",
     "text": [
      "{'Bob': 1.0, 'Carol': 0.0}\n"
     ]
    }
   ],
   "source": [
    "# Note that if we try to calculate the reputation from the Alice's standpoint,\n",
    "# Carol's reputation will be zero, despite Carol upvoted Alice before. \n",
    "# This is the most important feature of subjective ranking system that prevents Sybils attacks.\n",
    "# The reasoning is simple: \"if you say you're grateful to me, it does not mean I can trust you\"\n",
    "print(calc_rep(G, \"Alice\"))"
   ]
  },
  {
   "cell_type": "code",
   "execution_count": null,
   "id": "2ccaef56",
   "metadata": {},
   "outputs": [],
   "source": []
  }
 ],
 "metadata": {
  "kernelspec": {
   "display_name": "Python 3 (ipykernel)",
   "language": "python",
   "name": "python3"
  },
  "language_info": {
   "codemirror_mode": {
    "name": "ipython",
    "version": 3
   },
   "file_extension": ".py",
   "mimetype": "text/x-python",
   "name": "python",
   "nbconvert_exporter": "python",
   "pygments_lexer": "ipython3",
   "version": "3.10.6"
  }
 },
 "nbformat": 4,
 "nbformat_minor": 5
}
